{
 "cells": [
  {
   "cell_type": "code",
   "execution_count": 1,
   "id": "378935b7",
   "metadata": {},
   "outputs": [
    {
     "name": "stdout",
     "output_type": "stream",
     "text": [
      "La temperatura media es: 12.52°C\n"
     ]
    }
   ],
   "source": [
    "import requests\n",
    "\n",
    "# URL del servicio Open Meteo\n",
    "api_url = \"https://api.open-meteo.com/v1/forecast?latitude=39.56939&longitude=2.65024&hourly=temperature_2m\"\n",
    "\n",
    "try:\n",
    "    # Consumir la API\n",
    "    response = requests.get(api_url)\n",
    "    response.raise_for_status()  # Lanzar error si la respuesta no es 200\n",
    "\n",
    "    # Extraer las temperaturas\n",
    "    data = response.json()\n",
    "    temperatures = data[\"hourly\"][\"temperature_2m\"]\n",
    "\n",
    "    # Calcular temperatura media\n",
    "    avg_temperature = sum(temperatures) / len(temperatures)\n",
    "    print(f\"La temperatura media es: {avg_temperature:.2f}°C\")\n",
    "\n",
    "except (requests.RequestException, KeyError) as e:\n",
    "    print(f\"Error al consumir la API: {e}\")\n"
   ]
  }
 ],
 "metadata": {
  "kernelspec": {
   "display_name": "Python 3",
   "language": "python",
   "name": "python3"
  },
  "language_info": {
   "codemirror_mode": {
    "name": "ipython",
    "version": 3
   },
   "file_extension": ".py",
   "mimetype": "text/x-python",
   "name": "python",
   "nbconvert_exporter": "python",
   "pygments_lexer": "ipython3",
   "version": "3.13.0"
  }
 },
 "nbformat": 4,
 "nbformat_minor": 5
}
